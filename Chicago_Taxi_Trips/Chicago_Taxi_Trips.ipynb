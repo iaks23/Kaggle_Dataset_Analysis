{
 "cells": [
  {
   "cell_type": "markdown",
   "id": "56455f5e",
   "metadata": {},
   "source": [
    "## The following dataset includes taxi trips from 2013 to the present, reported to the City of Chicago in its role as a regulatory agency. It is publicly available to anyone to use for analysis.\n",
    "#### https://cloud.google.com/bigquery/public-data/chicago-taxi"
   ]
  },
  {
   "cell_type": "markdown",
   "id": "050cdfee",
   "metadata": {},
   "source": [
    "### Most installations below need to be applied only once, and is specific if you are looking to work with BigQuery Datasets"
   ]
  },
  {
   "cell_type": "code",
   "execution_count": null,
   "id": "418980de",
   "metadata": {},
   "outputs": [],
   "source": [
    "#pip install --upgrade google-api-python-client\n",
    "#pip install google-cloud-bigquer\n",
    "#pip install pyarrow\n",
    "#!pip install --upgrade shapely"
   ]
  },
  {
   "cell_type": "markdown",
   "id": "4fd5b600",
   "metadata": {},
   "source": [
    "#### Necessary imports"
   ]
  },
  {
   "cell_type": "code",
   "execution_count": 52,
   "id": "b3a7f8a0",
   "metadata": {},
   "outputs": [],
   "source": [
    "from google.cloud import bigquery"
   ]
  },
  {
   "cell_type": "markdown",
   "id": "a66e64a3",
   "metadata": {},
   "source": [
    "#### The JSON file containing application credentials is unique to each user and must be set up and authenticated using Google Cloud API\n",
    "\n",
    "##### https://cloud.google.com/docs/authentication/getting-started"
   ]
  },
  {
   "cell_type": "code",
   "execution_count": 2,
   "id": "70f2ba20",
   "metadata": {},
   "outputs": [],
   "source": [
    "import os\n",
    "os.environ[\"GOOGLE_APPLICATION_CREDENTIALS\"]=\"/Users/akshayaparthasarathy/Desktop/WORK/KaggleNotebooks/chicago-taxi-trips-332312-e3dcbda772ab.json\"\n",
    "import pandas as pd"
   ]
  },
  {
   "cell_type": "markdown",
   "id": "fc7ec5ff",
   "metadata": {},
   "source": [
    "### Setting client & dataset reference and fetching the required tables."
   ]
  },
  {
   "cell_type": "code",
   "execution_count": 3,
   "id": "319b2543",
   "metadata": {},
   "outputs": [],
   "source": [
    "client = bigquery.Client()\n",
    "dataset_ref = client.dataset(\"chicago_taxi_trips\", \n",
    "                              project=\"bigquery-public-data\")\n",
    "dataset = client.get_dataset(dataset_ref)"
   ]
  },
  {
   "cell_type": "code",
   "execution_count": 4,
   "id": "20e199cc",
   "metadata": {},
   "outputs": [],
   "source": [
    "tables = list(client.list_tables(dataset))\n",
    "#for table in tables:\n",
    "    #print(table.table_id)"
   ]
  },
  {
   "cell_type": "code",
   "execution_count": 5,
   "id": "583abd44",
   "metadata": {},
   "outputs": [],
   "source": [
    "table_ref = dataset_ref.table(\"taxi_trips\")\n",
    "table = client.get_table(table_ref)"
   ]
  },
  {
   "cell_type": "code",
   "execution_count": 6,
   "id": "1ed02bcb",
   "metadata": {},
   "outputs": [
    {
     "data": {
      "text/plain": [
       "[SchemaField('unique_key', 'STRING', 'REQUIRED', 'Unique identifier for the trip.', (), None),\n",
       " SchemaField('taxi_id', 'STRING', 'REQUIRED', 'A unique identifier for the taxi.', (), None),\n",
       " SchemaField('trip_start_timestamp', 'TIMESTAMP', 'NULLABLE', 'When the trip started, rounded to the nearest 15 minutes.', (), None),\n",
       " SchemaField('trip_end_timestamp', 'TIMESTAMP', 'NULLABLE', 'When the trip ended, rounded to the nearest 15 minutes.', (), None),\n",
       " SchemaField('trip_seconds', 'INTEGER', 'NULLABLE', 'Time of the trip in seconds.', (), None),\n",
       " SchemaField('trip_miles', 'FLOAT', 'NULLABLE', 'Distance of the trip in miles.', (), None),\n",
       " SchemaField('pickup_census_tract', 'INTEGER', 'NULLABLE', 'The Census Tract where the trip began. For privacy, this Census Tract is not shown for some trips.', (), None),\n",
       " SchemaField('dropoff_census_tract', 'INTEGER', 'NULLABLE', 'The Census Tract where the trip ended. For privacy, this Census Tract is not shown for some trips.', (), None),\n",
       " SchemaField('pickup_community_area', 'INTEGER', 'NULLABLE', 'The Community Area where the trip began.', (), None),\n",
       " SchemaField('dropoff_community_area', 'INTEGER', 'NULLABLE', 'The Community Area where the trip ended.', (), None),\n",
       " SchemaField('fare', 'FLOAT', 'NULLABLE', 'The fare for the trip.', (), None),\n",
       " SchemaField('tips', 'FLOAT', 'NULLABLE', 'The tip for the trip. Cash tips generally will not be recorded.', (), None),\n",
       " SchemaField('tolls', 'FLOAT', 'NULLABLE', 'The tolls for the trip.', (), None),\n",
       " SchemaField('extras', 'FLOAT', 'NULLABLE', 'Extra charges for the trip.', (), None),\n",
       " SchemaField('trip_total', 'FLOAT', 'NULLABLE', 'Total cost of the trip, the total of the fare, tips, tolls, and extras.', (), None),\n",
       " SchemaField('payment_type', 'STRING', 'NULLABLE', 'Type of payment for the trip.', (), None),\n",
       " SchemaField('company', 'STRING', 'NULLABLE', 'The taxi company.', (), None),\n",
       " SchemaField('pickup_latitude', 'FLOAT', 'NULLABLE', 'The latitude of the center of the pickup census tract or the community area if the census tract has been hidden for privacy.', (), None),\n",
       " SchemaField('pickup_longitude', 'FLOAT', 'NULLABLE', 'The longitude of the center of the pickup census tract or the community area if the census tract has been hidden for privacy.', (), None),\n",
       " SchemaField('pickup_location', 'STRING', 'NULLABLE', 'The location of the center of the pickup census tract or the community area if the census tract has been hidden for privacy.', (), None),\n",
       " SchemaField('dropoff_latitude', 'FLOAT', 'NULLABLE', 'The latitude of the center of the dropoff census tract or the community area if the census tract has been hidden for privacy.', (), None),\n",
       " SchemaField('dropoff_longitude', 'FLOAT', 'NULLABLE', 'The longitude of the center of the dropoff census tract or the community area if the census tract has been hidden for privacy.', (), None),\n",
       " SchemaField('dropoff_location', 'STRING', 'NULLABLE', 'The location of the center of the dropoff census tract or the community area if the census tract has been hidden for privacy.', (), None)]"
      ]
     },
     "execution_count": 6,
     "metadata": {},
     "output_type": "execute_result"
    }
   ],
   "source": [
    "table.schema"
   ]
  },
  {
   "cell_type": "code",
   "execution_count": 57,
   "id": "8de8d2ae",
   "metadata": {},
   "outputs": [],
   "source": [
    "column_names_query = \"\"\"\n",
    "\n",
    "SELECT column_name\n",
    "FROM `bigquery-public-data.chicago_taxi_trips.INFORMATION_SCHEMA.COLUMNS`\n",
    "WHERE table_name = 'taxi_trips'\n",
    "\n",
    "\n",
    "\"\"\""
   ]
  },
  {
   "cell_type": "code",
   "execution_count": 58,
   "id": "9bca1f95",
   "metadata": {},
   "outputs": [
    {
     "name": "stdout",
     "output_type": "stream",
     "text": [
      "               column_name\n",
      "0               unique_key\n",
      "1                  taxi_id\n",
      "2     trip_start_timestamp\n",
      "3       trip_end_timestamp\n",
      "4             trip_seconds\n",
      "5               trip_miles\n",
      "6      pickup_census_tract\n",
      "7     dropoff_census_tract\n",
      "8    pickup_community_area\n",
      "9   dropoff_community_area\n",
      "10                    fare\n",
      "11                    tips\n",
      "12                   tolls\n",
      "13                  extras\n",
      "14              trip_total\n",
      "15            payment_type\n",
      "16                 company\n",
      "17         pickup_latitude\n",
      "18        pickup_longitude\n",
      "19         pickup_location\n",
      "20        dropoff_latitude\n",
      "21       dropoff_longitude\n",
      "22        dropoff_location\n"
     ]
    }
   ],
   "source": [
    "query_job = client.query(column_names_query)\n",
    "query_result = query_job.to_dataframe()\n",
    "print(query_result)"
   ]
  },
  {
   "cell_type": "markdown",
   "id": "41b44bba",
   "metadata": {},
   "source": [
    "#### Quick view of the dataset columns"
   ]
  },
  {
   "cell_type": "code",
   "execution_count": 7,
   "id": "1943fb0b",
   "metadata": {},
   "outputs": [
    {
     "data": {
      "text/html": [
       "<div>\n",
       "<style scoped>\n",
       "    .dataframe tbody tr th:only-of-type {\n",
       "        vertical-align: middle;\n",
       "    }\n",
       "\n",
       "    .dataframe tbody tr th {\n",
       "        vertical-align: top;\n",
       "    }\n",
       "\n",
       "    .dataframe thead th {\n",
       "        text-align: right;\n",
       "    }\n",
       "</style>\n",
       "<table border=\"1\" class=\"dataframe\">\n",
       "  <thead>\n",
       "    <tr style=\"text-align: right;\">\n",
       "      <th></th>\n",
       "      <th>unique_key</th>\n",
       "      <th>taxi_id</th>\n",
       "      <th>trip_start_timestamp</th>\n",
       "      <th>trip_end_timestamp</th>\n",
       "      <th>trip_seconds</th>\n",
       "      <th>trip_miles</th>\n",
       "      <th>pickup_census_tract</th>\n",
       "      <th>dropoff_census_tract</th>\n",
       "      <th>pickup_community_area</th>\n",
       "      <th>dropoff_community_area</th>\n",
       "      <th>...</th>\n",
       "      <th>extras</th>\n",
       "      <th>trip_total</th>\n",
       "      <th>payment_type</th>\n",
       "      <th>company</th>\n",
       "      <th>pickup_latitude</th>\n",
       "      <th>pickup_longitude</th>\n",
       "      <th>pickup_location</th>\n",
       "      <th>dropoff_latitude</th>\n",
       "      <th>dropoff_longitude</th>\n",
       "      <th>dropoff_location</th>\n",
       "    </tr>\n",
       "  </thead>\n",
       "  <tbody>\n",
       "    <tr>\n",
       "      <th>0</th>\n",
       "      <td>e5ab129c155c3719216beb5dcbf2aa8ca19e5656</td>\n",
       "      <td>c1aac0b2efe1a131a40f9761b4f5c9dcad9168b29cac42...</td>\n",
       "      <td>2014-07-30 23:00:00+00:00</td>\n",
       "      <td>2014-07-30 23:00:00+00:00</td>\n",
       "      <td>0</td>\n",
       "      <td>0.0</td>\n",
       "      <td>NaN</td>\n",
       "      <td>NaN</td>\n",
       "      <td>NaN</td>\n",
       "      <td>NaN</td>\n",
       "      <td>...</td>\n",
       "      <td>0.0</td>\n",
       "      <td>10.62</td>\n",
       "      <td>Credit Card</td>\n",
       "      <td>Chicago Elite Cab Corp. (Chicago Carriag</td>\n",
       "      <td>NaN</td>\n",
       "      <td>NaN</td>\n",
       "      <td>None</td>\n",
       "      <td>NaN</td>\n",
       "      <td>NaN</td>\n",
       "      <td>None</td>\n",
       "    </tr>\n",
       "    <tr>\n",
       "      <th>1</th>\n",
       "      <td>a5857e21a97c70612af9b1045b8bd7a626c558ef</td>\n",
       "      <td>c6e0071dc1db129271f6d4833953bb62bd466a9aed3330...</td>\n",
       "      <td>2014-07-30 09:30:00+00:00</td>\n",
       "      <td>2014-07-30 09:30:00+00:00</td>\n",
       "      <td>0</td>\n",
       "      <td>0.0</td>\n",
       "      <td>NaN</td>\n",
       "      <td>NaN</td>\n",
       "      <td>NaN</td>\n",
       "      <td>NaN</td>\n",
       "      <td>...</td>\n",
       "      <td>0.0</td>\n",
       "      <td>12.25</td>\n",
       "      <td>Credit Card</td>\n",
       "      <td>T.A.S. - Payment Only</td>\n",
       "      <td>NaN</td>\n",
       "      <td>NaN</td>\n",
       "      <td>None</td>\n",
       "      <td>NaN</td>\n",
       "      <td>NaN</td>\n",
       "      <td>None</td>\n",
       "    </tr>\n",
       "    <tr>\n",
       "      <th>2</th>\n",
       "      <td>2f5f796136c7e11e48d3bb08c8c6d73dfbe0e88c</td>\n",
       "      <td>54044c4ce47d539663e1520272de87e38a14d38ca23a66...</td>\n",
       "      <td>2014-07-13 07:00:00+00:00</td>\n",
       "      <td>2014-07-13 07:00:00+00:00</td>\n",
       "      <td>0</td>\n",
       "      <td>0.0</td>\n",
       "      <td>NaN</td>\n",
       "      <td>NaN</td>\n",
       "      <td>NaN</td>\n",
       "      <td>NaN</td>\n",
       "      <td>...</td>\n",
       "      <td>0.0</td>\n",
       "      <td>41.10</td>\n",
       "      <td>Credit Card</td>\n",
       "      <td>Chicago Elite Cab Corp. (Chicago Carriag</td>\n",
       "      <td>NaN</td>\n",
       "      <td>NaN</td>\n",
       "      <td>None</td>\n",
       "      <td>NaN</td>\n",
       "      <td>NaN</td>\n",
       "      <td>None</td>\n",
       "    </tr>\n",
       "    <tr>\n",
       "      <th>3</th>\n",
       "      <td>03cf9fabe105982c7b0382c54e002e43dd739c3a</td>\n",
       "      <td>2ee325e10e1eec919fc5bfc4d64ed9951cbab4fb13b3e2...</td>\n",
       "      <td>2014-07-07 23:00:00+00:00</td>\n",
       "      <td>2014-07-07 23:00:00+00:00</td>\n",
       "      <td>0</td>\n",
       "      <td>0.0</td>\n",
       "      <td>NaN</td>\n",
       "      <td>NaN</td>\n",
       "      <td>NaN</td>\n",
       "      <td>NaN</td>\n",
       "      <td>...</td>\n",
       "      <td>0.0</td>\n",
       "      <td>5.56</td>\n",
       "      <td>Credit Card</td>\n",
       "      <td>Chicago Elite Cab Corp. (Chicago Carriag</td>\n",
       "      <td>NaN</td>\n",
       "      <td>NaN</td>\n",
       "      <td>None</td>\n",
       "      <td>NaN</td>\n",
       "      <td>NaN</td>\n",
       "      <td>None</td>\n",
       "    </tr>\n",
       "    <tr>\n",
       "      <th>4</th>\n",
       "      <td>1ba3648418a92ae0743abf80ca631cca51446d5b</td>\n",
       "      <td>16a233f62883c48f7462a0d5b87191190c49a46fe52f37...</td>\n",
       "      <td>2014-08-28 16:45:00+00:00</td>\n",
       "      <td>2014-08-28 16:45:00+00:00</td>\n",
       "      <td>0</td>\n",
       "      <td>0.0</td>\n",
       "      <td>NaN</td>\n",
       "      <td>NaN</td>\n",
       "      <td>NaN</td>\n",
       "      <td>NaN</td>\n",
       "      <td>...</td>\n",
       "      <td>0.0</td>\n",
       "      <td>6.85</td>\n",
       "      <td>Credit Card</td>\n",
       "      <td>T.A.S. - Payment Only</td>\n",
       "      <td>NaN</td>\n",
       "      <td>NaN</td>\n",
       "      <td>None</td>\n",
       "      <td>NaN</td>\n",
       "      <td>NaN</td>\n",
       "      <td>None</td>\n",
       "    </tr>\n",
       "  </tbody>\n",
       "</table>\n",
       "<p>5 rows × 23 columns</p>\n",
       "</div>"
      ],
      "text/plain": [
       "                                 unique_key  \\\n",
       "0  e5ab129c155c3719216beb5dcbf2aa8ca19e5656   \n",
       "1  a5857e21a97c70612af9b1045b8bd7a626c558ef   \n",
       "2  2f5f796136c7e11e48d3bb08c8c6d73dfbe0e88c   \n",
       "3  03cf9fabe105982c7b0382c54e002e43dd739c3a   \n",
       "4  1ba3648418a92ae0743abf80ca631cca51446d5b   \n",
       "\n",
       "                                             taxi_id  \\\n",
       "0  c1aac0b2efe1a131a40f9761b4f5c9dcad9168b29cac42...   \n",
       "1  c6e0071dc1db129271f6d4833953bb62bd466a9aed3330...   \n",
       "2  54044c4ce47d539663e1520272de87e38a14d38ca23a66...   \n",
       "3  2ee325e10e1eec919fc5bfc4d64ed9951cbab4fb13b3e2...   \n",
       "4  16a233f62883c48f7462a0d5b87191190c49a46fe52f37...   \n",
       "\n",
       "       trip_start_timestamp        trip_end_timestamp  trip_seconds  \\\n",
       "0 2014-07-30 23:00:00+00:00 2014-07-30 23:00:00+00:00             0   \n",
       "1 2014-07-30 09:30:00+00:00 2014-07-30 09:30:00+00:00             0   \n",
       "2 2014-07-13 07:00:00+00:00 2014-07-13 07:00:00+00:00             0   \n",
       "3 2014-07-07 23:00:00+00:00 2014-07-07 23:00:00+00:00             0   \n",
       "4 2014-08-28 16:45:00+00:00 2014-08-28 16:45:00+00:00             0   \n",
       "\n",
       "   trip_miles  pickup_census_tract  dropoff_census_tract  \\\n",
       "0         0.0                  NaN                   NaN   \n",
       "1         0.0                  NaN                   NaN   \n",
       "2         0.0                  NaN                   NaN   \n",
       "3         0.0                  NaN                   NaN   \n",
       "4         0.0                  NaN                   NaN   \n",
       "\n",
       "   pickup_community_area  dropoff_community_area  ...  extras  trip_total  \\\n",
       "0                    NaN                     NaN  ...     0.0       10.62   \n",
       "1                    NaN                     NaN  ...     0.0       12.25   \n",
       "2                    NaN                     NaN  ...     0.0       41.10   \n",
       "3                    NaN                     NaN  ...     0.0        5.56   \n",
       "4                    NaN                     NaN  ...     0.0        6.85   \n",
       "\n",
       "   payment_type                                   company  pickup_latitude  \\\n",
       "0   Credit Card  Chicago Elite Cab Corp. (Chicago Carriag              NaN   \n",
       "1   Credit Card                     T.A.S. - Payment Only              NaN   \n",
       "2   Credit Card  Chicago Elite Cab Corp. (Chicago Carriag              NaN   \n",
       "3   Credit Card  Chicago Elite Cab Corp. (Chicago Carriag              NaN   \n",
       "4   Credit Card                     T.A.S. - Payment Only              NaN   \n",
       "\n",
       "  pickup_longitude pickup_location  dropoff_latitude  dropoff_longitude  \\\n",
       "0              NaN            None               NaN                NaN   \n",
       "1              NaN            None               NaN                NaN   \n",
       "2              NaN            None               NaN                NaN   \n",
       "3              NaN            None               NaN                NaN   \n",
       "4              NaN            None               NaN                NaN   \n",
       "\n",
       "  dropoff_location  \n",
       "0             None  \n",
       "1             None  \n",
       "2             None  \n",
       "3             None  \n",
       "4             None  \n",
       "\n",
       "[5 rows x 23 columns]"
      ]
     },
     "execution_count": 7,
     "metadata": {},
     "output_type": "execute_result"
    }
   ],
   "source": [
    "client.list_rows(table, max_results=5).to_dataframe()"
   ]
  },
  {
   "cell_type": "markdown",
   "id": "130c2780",
   "metadata": {},
   "source": [
    "#### Setting up Query Job from client to run SQL queries. Additonally setting up configuration to cancel the query if it would use too much of your quota, with the limit set to 10 GB."
   ]
  },
  {
   "cell_type": "code",
   "execution_count": 11,
   "id": "514454e9",
   "metadata": {},
   "outputs": [],
   "source": [
    "sample_query = \"\"\"\n",
    "\n",
    "SELECT DISTINCT company FROM `bigquery-public-data.chicago_taxi_trips.taxi_trips` \n",
    "LIMIT 10\n",
    "\n",
    "\"\"\""
   ]
  },
  {
   "cell_type": "code",
   "execution_count": 12,
   "id": "925ebc09",
   "metadata": {},
   "outputs": [],
   "source": [
    "safe_config = bigquery.QueryJobConfig(maximum_bytes_billed=10**10)\n",
    "query_job = client.query(sample_query, job_config=safe_config)"
   ]
  },
  {
   "cell_type": "code",
   "execution_count": 13,
   "id": "c44e3908",
   "metadata": {},
   "outputs": [
    {
     "name": "stdout",
     "output_type": "stream",
     "text": [
      "                          company\n",
      "0         5997 - AW Services Inc.\n",
      "1            2241 - Manuel Alonso\n",
      "2               2733 - Benny Jona\n",
      "3          3319 - C&D Cab Company\n",
      "4  4523 - 79481 Hazel Transit Inc\n",
      "5        4787 - 56058 Reny Cab Co\n",
      "6     0118 - 42111 Godfrey S.Awir\n",
      "7                6488 - Zuha Taxi\n",
      "8                      Globe Taxi\n",
      "9      1408 - 89599 Donald Barnes\n"
     ]
    }
   ],
   "source": [
    "query_result = query_job.to_dataframe()\n",
    "print(query_result)"
   ]
  },
  {
   "cell_type": "markdown",
   "id": "ec973911",
   "metadata": {},
   "source": [
    "### Following questions were a part of the Kaggle notebook queries."
   ]
  },
  {
   "cell_type": "markdown",
   "id": "587cf5ac",
   "metadata": {},
   "source": [
    "#### Q1: Taxi company usually used in chicago"
   ]
  },
  {
   "cell_type": "code",
   "execution_count": 14,
   "id": "9406f3a8",
   "metadata": {},
   "outputs": [],
   "source": [
    "\n",
    "popular_company = \"\"\"\n",
    "\n",
    "SELECT DISTINCT company, count(*) AS Frequency_Of_Use FROM\n",
    "`bigquery-public-data.chicago_taxi_trips.taxi_trips`\n",
    "GROUP BY company\n",
    "ORDER BY Frequency_Of_Use DESC\n",
    "LIMIT 3\n",
    "\n",
    "\"\"\""
   ]
  },
  {
   "cell_type": "code",
   "execution_count": 15,
   "id": "58d06da1",
   "metadata": {},
   "outputs": [
    {
     "name": "stdout",
     "output_type": "stream",
     "text": [
      "                     company  Frequency_Of_Use\n",
      "0  Taxi Affiliation Services          41396001\n",
      "1                       None          33593407\n",
      "2                  Flash Cab          18620682\n"
     ]
    }
   ],
   "source": [
    "safe_config = bigquery.QueryJobConfig(maximum_bytes_billed=10**10)\n",
    "query_job = client.query(popular_company, job_config=safe_config)\n",
    "popular_comp_result = query_job.to_dataframe()\n",
    "print(popular_comp_result)"
   ]
  },
  {
   "cell_type": "markdown",
   "id": "7f028585",
   "metadata": {},
   "source": [
    "#### Q2: Most popular mode of Payment used"
   ]
  },
  {
   "cell_type": "code",
   "execution_count": 16,
   "id": "8f4b52b9",
   "metadata": {},
   "outputs": [],
   "source": [
    "frequent_payment_type = \"\"\"\n",
    "\n",
    "SELECT distinct payment_type, COUNT(1) AS no_of_uses FROM\n",
    "`bigquery-public-data.chicago_taxi_trips.taxi_trips`\n",
    "GROUP BY payment_type\n",
    "ORDER BY no_of_uses DESC\n",
    "\n",
    "\"\"\""
   ]
  },
  {
   "cell_type": "code",
   "execution_count": 17,
   "id": "18cdb952",
   "metadata": {},
   "outputs": [
    {
     "name": "stdout",
     "output_type": "stream",
     "text": [
      "   payment_type  no_of_uses\n",
      "0          Cash   114508928\n",
      "1   Credit Card    80108037\n",
      "2       Unknown      868647\n",
      "3        Prcard      861286\n",
      "4     No Charge      817082\n",
      "5        Mobile      628237\n",
      "6       Dispute       82851\n",
      "7         Pcard       36874\n",
      "8         Split        3442\n",
      "9       Prepaid        1805\n",
      "10     Way2ride         142\n"
     ]
    }
   ],
   "source": [
    "safe_config = bigquery.QueryJobConfig(maximum_bytes_billed=10**10)\n",
    "query_job = client.query(frequent_payment_type, job_config=safe_config)\n",
    "payment_result = query_job.to_dataframe()\n",
    "print(payment_result)"
   ]
  },
  {
   "cell_type": "markdown",
   "id": "b2fe5cd4",
   "metadata": {},
   "source": [
    "#### Q3: What are the maximum, minimum and average fares for rides lasting 10 minutes or more?"
   ]
  },
  {
   "cell_type": "code",
   "execution_count": 47,
   "id": "7a3d9a9a",
   "metadata": {},
   "outputs": [],
   "source": [
    "fare_calc = \"\"\"\n",
    "\n",
    "WITH FARE_CALC AS(\n",
    "\n",
    "SELECT \n",
    "RIGHT(taxi_id, 5) AS taxi_id,\n",
    "ROUND(MAX(fare), 2) AS max_fare,\n",
    "ROUND(MIN(fare), 2) AS min_fare,\n",
    "ROUND(AVG(fare), 2) AS avg_fare,\n",
    "EXTRACT(MINUTE FROM trip_start_timestamp) AS start_time,\n",
    "EXTRACT(MINUTE FROM trip_end_timestamp) AS end_time\n",
    "FROM \n",
    "`bigquery-public-data.chicago_taxi_trips.taxi_trips`\n",
    "GROUP BY taxi_id, start_time, end_time\n",
    ")\n",
    "\n",
    "SELECT taxi_id,\n",
    "max_fare,\n",
    "min_fare,\n",
    "avg_fare,\n",
    "end_time - start_time AS trip_duration\n",
    "FROM FARE_CALC \n",
    "WHERE end_time - start_time >= 10\n",
    "\n",
    "\n",
    "\"\"\"\n"
   ]
  },
  {
   "cell_type": "code",
   "execution_count": 50,
   "id": "88de592b",
   "metadata": {},
   "outputs": [
    {
     "name": "stdout",
     "output_type": "stream",
     "text": [
      "  taxi_id  max_fare  min_fare  avg_fare  trip_duration\n",
      "0   7b0a1     75.05     10.25     22.46             30\n",
      "1   a865d    333.33      3.85     11.23             15\n",
      "2   f3d2a    105.25      0.02     11.34             15\n",
      "3   a7b6f    111.11      0.02     11.67             15\n",
      "4   20c7f    145.25      6.45     30.46             30\n",
      "5   078cc    103.75      1.00     10.76             15\n",
      "6   0dea8     83.75      1.00     11.27             15\n",
      "7   8c8c7     68.25      4.00     11.00             15\n",
      "8   e61b0     30.45      3.05     10.47             15\n",
      "9   94432     79.65      5.85     27.28             30\n"
     ]
    }
   ],
   "source": [
    "safe_config = bigquery.QueryJobConfig(maximum_bytes_billed=10**10)\n",
    "query_job = client.query(fare_calc, job_config=safe_config)\n",
    "fare_result = query_job.to_dataframe()\n",
    "print(fare_result.head(10))"
   ]
  },
  {
   "cell_type": "markdown",
   "id": "0376ba3a",
   "metadata": {},
   "source": [
    "#### Q4: Which drop-off areas have the highest average tip?"
   ]
  },
  {
   "cell_type": "code",
   "execution_count": 67,
   "id": "6d426e64",
   "metadata": {},
   "outputs": [],
   "source": [
    "highest_tip = \"\"\"\n",
    "\n",
    "SELECT\n",
    "dropoff_community_area,\n",
    "ROUND(AVG(tips),2) AS avg_tips,\n",
    "MAX(tips) AS maximum_tip_for_area\n",
    "FROM `bigquery-public-data.chicago_taxi_trips.taxi_trips`\n",
    "WHERE\n",
    "dropoff_community_area IS NOT NULL\n",
    "GROUP BY dropoff_community_area\n",
    "ORDER BY avg_tips DESC\n",
    "LIMIT 15\n",
    "\n",
    "\n",
    "\"\"\""
   ]
  },
  {
   "cell_type": "code",
   "execution_count": 68,
   "id": "fa221a85",
   "metadata": {},
   "outputs": [
    {
     "name": "stdout",
     "output_type": "stream",
     "text": [
      "    dropoff_community_area  avg_tips  maximum_tip_for_area\n",
      "0                       76      4.04                596.85\n",
      "1                       56      3.40                999.99\n",
      "2                       72      3.08                 80.00\n",
      "3                       74      2.28                150.00\n",
      "4                       41      2.06                250.00\n",
      "5                        9      2.05                 74.75\n",
      "6                       64      1.91                100.00\n",
      "7                       12      1.58                220.00\n",
      "8                        5      1.49                486.00\n",
      "9                       39      1.47                212.50\n",
      "10                      33      1.39                346.00\n",
      "11                      10      1.36                255.89\n",
      "12                       4      1.33                900.00\n",
      "13                       6      1.31                666.66\n",
      "14                      57      1.30                 65.00\n"
     ]
    }
   ],
   "source": [
    "safe_config = bigquery.QueryJobConfig(maximum_bytes_billed=10**10)\n",
    "query_job = client.query(highest_tip, job_config=safe_config)\n",
    "tip_result = query_job.to_dataframe()\n",
    "print(tip_result)"
   ]
  },
  {
   "cell_type": "markdown",
   "id": "b37fc94c",
   "metadata": {},
   "source": [
    "#### Q5: How does trip duration affect fare rates for trips lasting less than 90 minutes?"
   ]
  },
  {
   "cell_type": "code",
   "execution_count": null,
   "id": "ed4342fa",
   "metadata": {},
   "outputs": [],
   "source": []
  }
 ],
 "metadata": {
  "kernelspec": {
   "display_name": "Python 3",
   "language": "python",
   "name": "python3"
  },
  "language_info": {
   "codemirror_mode": {
    "name": "ipython",
    "version": 3
   },
   "file_extension": ".py",
   "mimetype": "text/x-python",
   "name": "python",
   "nbconvert_exporter": "python",
   "pygments_lexer": "ipython3",
   "version": "3.8.8"
  }
 },
 "nbformat": 4,
 "nbformat_minor": 5
}
